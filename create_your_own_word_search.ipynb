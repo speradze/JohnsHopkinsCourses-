{
 "cells": [
  {
   "cell_type": "code",
   "execution_count": 15,
   "metadata": {},
   "outputs": [],
   "source": [
    "# This is the code that I wrote, that lets you create your own word search. \n",
    "# In this game, you will need to input how many words you want and the words themselves. \n",
    "# After that, the computer will randomly place the words in a table.\n",
    "# The table is filled with random letters. \n",
    "# To play the game you need to print the table, find and circle the words. \n",
    "# This game can have as many players as you want so invite your friends to play the game."
   ]
  },
  {
   "cell_type": "code",
   "execution_count": 36,
   "metadata": {},
   "outputs": [
    {
     "name": "stdout",
     "output_type": "stream",
     "text": [
      "['r', 'k', 'n', 'y', 'w', 'u']\n"
     ]
    }
   ],
   "source": [
    "import random\n",
    "def get_random_letters( num_random_letters ):\n",
    "    result_list = []\n",
    "    alphabet = ['a', 'b', 'c', 'd', 'e', 'f', 'g', 'h', 'i', 'j', 'k', 'l', 'm', 'n', 'o', 'p', 'q', 'r', 's', 't', 'u', 'v', 'w', 'x', 'y', 'z']\n",
    "    num_letters = len(alphabet)\n",
    "\n",
    "    for i in range(num_random_letters):\n",
    "        n = random.randint(0,num_letters-1)\n",
    "        random_letter = alphabet[n]\n",
    "        result_list.append(random_letter)\n",
    "    return(result_list)\n",
    "    \n",
    "h = get_random_letters(6)\n",
    "print(h)\n",
    "    "
   ]
  },
  {
   "cell_type": "code",
   "execution_count": 37,
   "metadata": {
    "scrolled": true
   },
   "outputs": [
    {
     "name": "stdout",
     "output_type": "stream",
     "text": [
      " a b c\n",
      " e z g\n",
      " j k l\n",
      " d f l\n"
     ]
    }
   ],
   "source": [
    "def print_list_as_table(list_of_list_of_letters):\n",
    "    for this_list in list_of_list_of_letters:\n",
    "        string = \"\"\n",
    "        for letter in this_list:\n",
    "            string = string + \" \" + letter\n",
    "        print(string)\n",
    "       \n",
    "        \n",
    "list_of_list_of_letters_from_english_alphabet = [['a' , 'b'  , 'c'] ,['e' , 'z' , 'g'], ['j' , 'k' , 'l'], ['d' , 'f' , 'l']]\n",
    "\n",
    "xyz =print_list_as_table(list_of_list_of_letters_from_english_alphabet)\n",
    "\n"
   ]
  },
  {
   "cell_type": "code",
   "execution_count": 38,
   "metadata": {},
   "outputs": [
    {
     "name": "stdout",
     "output_type": "stream",
     "text": [
      "[['a', 'b'], ['c', 'd'], ['e', 'f'], ['g', 'h'], ['i', 'j'], ['k', 'l']]\n"
     ]
    }
   ],
   "source": [
    "def fold_the_list_into_list_of_lists(input_list, num_rows, num_cols):\n",
    "    my_rows = []\n",
    "    for row in range(num_rows):\n",
    "        this_row = []\n",
    "        for col in range (num_cols):\n",
    "            index = row * num_cols +col \n",
    "            letter = input_list[index]\n",
    "            this_row.append(letter)\n",
    "        my_rows.append(this_row)\n",
    "\n",
    "    return my_rows\n",
    "\n",
    "\n",
    "input_big_list = ['a', 'b' , 'c' ,'d' , 'e' ,'f' ,'g' , 'h' , 'i' , 'j' , 'k' , 'l']\n",
    "num_of_rows = 6\n",
    "num_of_cols = 2\n",
    "\n",
    "chunks = fold_the_list_into_list_of_lists(input_big_list,num_of_rows,num_of_cols)\n",
    "print(chunks)\n",
    "\n"
   ]
  },
  {
   "cell_type": "code",
   "execution_count": 39,
   "metadata": {},
   "outputs": [
    {
     "name": "stdout",
     "output_type": "stream",
     "text": [
      " b w h b x\n",
      " h t d q z\n",
      " g o t j k\n",
      " c p l f g\n",
      " v h y w t\n"
     ]
    }
   ],
   "source": [
    "def get_list_of_list_of_random_letters(num_of_row , num_of_col):\n",
    "    letters = num_of_row * num_of_col\n",
    "    h = get_random_letters(letters)\n",
    "    l = fold_the_list_into_list_of_lists(h , num_of_row , num_of_col)\n",
    "    return l\n",
    "\n",
    "\n",
    "\n",
    "q = get_list_of_list_of_random_letters(5,5)\n",
    "\n",
    "\n",
    "print_list_as_table(q)\n",
    "\n",
    "\n",
    "\n",
    "\n",
    "    "
   ]
  },
  {
   "cell_type": "code",
   "execution_count": 40,
   "metadata": {},
   "outputs": [
    {
     "data": {
      "text/plain": [
       "[['h', 'e', 'l', 'l', 'o', 'p', 'x', 'z'],\n",
       " ['v', 'j', 'w', 's', 'u', 'n', 'k', 'r'],\n",
       " ['q', 'd', 'l', 'w', 'q', 'g', 'g', 'g'],\n",
       " ['o', 'i', 't', 'u', 'v', 'f', 'p', 'g'],\n",
       " ['l', 'c', 'j', 'w', 'l', 'u', 'z', 'y'],\n",
       " ['s', 'c', 's', 'x', 'u', 'e', 'i', 'y'],\n",
       " ['p', 'e', 'l', 'g', 'e', 'f', 'k', 'y']]"
      ]
     },
     "execution_count": 40,
     "metadata": {},
     "output_type": "execute_result"
    }
   ],
   "source": [
    "def put_word_in_list_of_list (list_of_lists , word, start_row , start_col):\n",
    "    spot = start_col\n",
    "    for letter in word:\n",
    "        list_of_lists[start_row][spot] = letter\n",
    "        spot = spot  + 1\n",
    "        \n",
    "    return list_of_lists\n",
    "\n",
    "list_of_words = get_list_of_list_of_random_letters( 7 , 8 )\n",
    "\n",
    "put_word_in_list_of_list(list_of_words , \"hello\",0 , 0)\n",
    "\n",
    "    \n",
    "    "
   ]
  },
  {
   "cell_type": "code",
   "execution_count": 41,
   "metadata": {},
   "outputs": [
    {
     "data": {
      "text/plain": [
       "[['x', 'h', 'i', 'o', 'r', 'd', 'u', 'n'],\n",
       " ['h', 'e', 'a', 'k', 's', 'x', 'e', 'd'],\n",
       " ['p', 'l', 'u', 'k', 'w', 'w', 'y', 'c'],\n",
       " ['q', 'l', 'q', 's', 'k', 'c', 'h', 'u'],\n",
       " ['e', 'o', 'u', 'o', 'k', 'j', 'h', 'u'],\n",
       " ['n', 'h', 'f', 'c', 'r', 'r', 'r', 'g'],\n",
       " ['n', 'f', 'g', 'r', 'l', 'v', 'w', 'e']]"
      ]
     },
     "execution_count": 41,
     "metadata": {},
     "output_type": "execute_result"
    }
   ],
   "source": [
    "def put_word_in_list_of_list_col (list_of_lists , word, start_row , start_col):\n",
    "    spot = start_row\n",
    "    for letter in word:\n",
    "        list_of_lists[spot][start_col] = letter\n",
    "        spot = spot  + 1\n",
    "        \n",
    "    return list_of_lists\n",
    "\n",
    "list_of_words = get_list_of_list_of_random_letters( 7 , 8 )\n",
    "\n",
    "put_word_in_list_of_list_col(list_of_words , \"hello\",0 , 1)\n",
    "\n",
    "\n",
    "        \n"
   ]
  },
  {
   "cell_type": "code",
   "execution_count": 42,
   "metadata": {
    "scrolled": true
   },
   "outputs": [],
   "source": [
    "def vertical_or_horizontal():\n",
    "    random_direction = random.sample(range(1,3),1)\n",
    "    o = random_direction[0]\n",
    "    if o == 1:\n",
    "        return \"vertical\"\n",
    "    else:\n",
    "        return \"horizontal\"\n",
    "\n"
   ]
  },
  {
   "cell_type": "code",
   "execution_count": 43,
   "metadata": {},
   "outputs": [],
   "source": [
    "def horizontal (table , words ):\n",
    "    square_size = len(table)\n",
    "    num_words = len(words)\n",
    "    ran_rows = random.sample(range(0,square_size),num_words)\n",
    "    for i in range (num_words):\n",
    "        curent_word = words[i]\n",
    "        start_row = ran_rows[i]\n",
    "        length_of_word = len(curent_word)\n",
    "        last_place_can_put = square_size - length_of_word\n",
    "        start_col = random.randint(0 , last_place_can_put)\n",
    "        table = put_word_in_list_of_list(table , curent_word  , start_row , start_col )\n",
    "    return table "
   ]
  },
  {
   "cell_type": "code",
   "execution_count": 44,
   "metadata": {},
   "outputs": [],
   "source": [
    "def vertical(table, words ):\n",
    "    square_size = len(table)\n",
    "    num_words = len(words)\n",
    "    ran_cols = random.sample(range(0,square_size),num_words)\n",
    "    for i in range (num_words):\n",
    "        curent_word = words[i]\n",
    "        start_col = ran_cols[i]\n",
    "        length_of_word = len(curent_word)\n",
    "        last_place_can_put = square_size - length_of_word\n",
    "        start_rows = random.randint(0 , last_place_can_put)\n",
    "        table = put_word_in_list_of_list_col(table , curent_word  , start_rows , start_col )\n",
    "    return table \n",
    "        "
   ]
  },
  {
   "cell_type": "code",
   "execution_count": 45,
   "metadata": {
    "scrolled": false
   },
   "outputs": [
    {
     "name": "stdout",
     "output_type": "stream",
     "text": [
      "how many words do you want : 5\n",
      " \n",
      "note that when you input your word it will not be permitted to put the word as a one letter word \n",
      " \n",
      "what word do you want to be in the word search : winter\n",
      " \n",
      "what word do you want to be in the word search : christmas\n",
      " \n",
      "what word do you want to be in the word search : holidays\n",
      " \n",
      "what word do you want to be in the word search : skiing\n",
      " \n",
      "what word do you want to be in the word search : snow\n",
      " \n",
      " \n",
      "_______________________________________________\n",
      " \n",
      " \n",
      "Find the following words in the table below\n",
      " \n",
      "-winter\n",
      "-christmas\n",
      "-holidays\n",
      "-skiing\n",
      "-snow\n",
      " \n",
      " \n",
      " f p p d l y o s g q r k y f y t c w\n",
      " a q n g t u f q w z r e g l e z j d\n",
      " c r o c y d v i c i q h n y d e n g\n",
      " v c y s i h w l n h z b l p p s h x\n",
      " t m m t y m y a c p f h y o l f l e\n",
      " q p f t v e n u j g x l v r m j a u\n",
      " r q u u x o o p l c l b w o d l t t\n",
      " t n b i f x v r o f t d i a h a y y\n",
      " v m r f a x f n u l t n c w h p r o\n",
      " r z c s k i i n g j a k y c b d d a\n",
      " v e s p h h y e l l m w x q x n z k\n",
      " s w c d j a b z n i c t w p j v m d\n",
      " s y m n c n h y y b j g f s n o w b\n",
      " r u y s p r u s g t j m v i a d e o\n",
      " j r t w b i u h o l i d a y s n h t\n",
      " a o e s y f z f b h x w l y x k x x\n",
      " h g e o t c h r i s t m a s p v l j\n",
      " y i k w i n t e r m l j c f o w t p\n"
     ]
    }
   ],
   "source": [
    "orientation = vertical_or_horizontal()\n",
    "\n",
    "num_words = input('how many words do you want : ')\n",
    "num_words = int(num_words)\n",
    "\n",
    "\n",
    "while num_words > 10:\n",
    "    print(\"please give less than ten words\")\n",
    "    num_words = input('how many words do you want : ')\n",
    "    num_words = int(num_words)\n",
    "\n",
    "    \n",
    "y = \" \"\n",
    "words = [ ]\n",
    "the_longest = 0\n",
    "print(y)\n",
    "print(\"note that when you input your word it will not be permitted to put the word as a one letter word \")\n",
    "for i in range(num_words):\n",
    "    print(y)\n",
    "    word_to_add =input('what word do you want to be in the word search : ')\n",
    "    while len(word_to_add) > 15:\n",
    "        print(y)\n",
    "        print(\"please give a word that is less than 20 charecters\")\n",
    "        word_to_add =input('what word do you want to be in the word search : ')\n",
    "    while len(word_to_add) < 2:\n",
    "        print(y)\n",
    "        print(\"please give a word that is greater than 1 charecters\")\n",
    "        word_to_add =input('what word do you want to be in the word search :  ')\n",
    "    words.append(word_to_add)\n",
    "    if len(word_to_add) > the_longest:\n",
    "        the_longest = len(word_to_add)\n",
    "        \n",
    "x = ' '\n",
    "b = '_______________________________________________'\n",
    "print(x)\n",
    "print(x)\n",
    "print(b)\n",
    "print(x)\n",
    "print(x)\n",
    "print(\"Find the following words in the table below\")\n",
    "print(x)\n",
    "for l in range(num_words):\n",
    "    print(\"-\" + words[l] )\n",
    "\n",
    "print(x)\n",
    "print(x)\n",
    "        \n",
    "        \n",
    "num_rows = 2 * num_words\n",
    "num_cols = 2 * the_longest\n",
    "\n",
    "\n",
    "if num_rows > num_cols:\n",
    "    square_size_ = num_rows\n",
    "else:\n",
    "    square_size_ = num_cols\n",
    "        \n",
    "\n",
    "table = get_list_of_list_of_random_letters(square_size_ , square_size_)\n",
    "\n",
    "\n",
    "if orientation == \"horizontal\":\n",
    "    call = horizontal(table , words )\n",
    "else: \n",
    "    call = vertical(table , words )\n",
    "\n",
    "\n",
    "print_list_as_table(call)\n",
    "\n"
   ]
  },
  {
   "cell_type": "code",
   "execution_count": null,
   "metadata": {},
   "outputs": [],
   "source": []
  }
 ],
 "metadata": {
  "kernelspec": {
   "display_name": "Python 3",
   "language": "python",
   "name": "python3"
  },
  "language_info": {
   "codemirror_mode": {
    "name": "ipython",
    "version": 3
   },
   "file_extension": ".py",
   "mimetype": "text/x-python",
   "name": "python",
   "nbconvert_exporter": "python",
   "pygments_lexer": "ipython3",
   "version": "3.8.5"
  }
 },
 "nbformat": 4,
 "nbformat_minor": 4
}
