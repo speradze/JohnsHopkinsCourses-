{
 "cells": [
  {
   "cell_type": "code",
   "execution_count": 12,
   "metadata": {},
   "outputs": [],
   "source": [
    "# This is the code that I wrote, that let’s you create your own word search. \n",
    "# In this game you will need to input how many words you want and the words themselves. \n",
    "# After that, the computer will randomly place the words in a table.\n",
    "# The table is filled with random letters. \n",
    "# To play the game you need to print the table, find and circle the words. \n",
    "# This game can have as many players as you want so invite your friends to play the game."
   ]
  },
  {
   "cell_type": "code",
   "execution_count": 13,
   "metadata": {},
   "outputs": [
    {
     "name": "stdout",
     "output_type": "stream",
     "text": [
      "['k', 'x', 'a', 'r', 'q', 'i']\n"
     ]
    }
   ],
   "source": [
    "import random\n",
    "def get_random_letters( num_random_letters ):\n",
    "    result_list = []\n",
    "    alphabet = ['a', 'b', 'c', 'd', 'e', 'f', 'g', 'h', 'i', 'j', 'k', 'l', 'm', 'n', 'o', 'p', 'q', 'r', 's', 't', 'u', 'v', 'w', 'x', 'y', 'z']\n",
    "    num_letters = len(alphabet)\n",
    "\n",
    "    for i in range(num_random_letters):\n",
    "        n = random.randint(0,num_letters-1)\n",
    "        random_letter = alphabet[n]\n",
    "        result_list.append(random_letter)\n",
    "    return(result_list)\n",
    "    \n",
    "h = get_random_letters(6)\n",
    "print(h)\n",
    "    "
   ]
  },
  {
   "cell_type": "code",
   "execution_count": 14,
   "metadata": {
    "scrolled": true
   },
   "outputs": [
    {
     "name": "stdout",
     "output_type": "stream",
     "text": [
      " a b c\n",
      " e z g\n",
      " j k l\n",
      " d f l\n"
     ]
    }
   ],
   "source": [
    "def print_list_as_table(list_of_list_of_letters):\n",
    "    for this_list in list_of_list_of_letters:\n",
    "        string = \"\"\n",
    "        for letter in this_list:\n",
    "            string = string + \" \" + letter\n",
    "        print(string)\n",
    "       \n",
    "        \n",
    "list_of_list_of_letters_from_english_alphabet = [['a' , 'b'  , 'c'] ,['e' , 'z' , 'g'], ['j' , 'k' , 'l'], ['d' , 'f' , 'l']]\n",
    "\n",
    "xyz =print_list_as_table(list_of_list_of_letters_from_english_alphabet)\n",
    "\n"
   ]
  },
  {
   "cell_type": "code",
   "execution_count": 15,
   "metadata": {},
   "outputs": [
    {
     "name": "stdout",
     "output_type": "stream",
     "text": [
      "[['a', 'b'], ['c', 'd'], ['e', 'f'], ['g', 'h'], ['i', 'j'], ['k', 'l']]\n"
     ]
    }
   ],
   "source": [
    "def fold_the_list_into_list_of_lists(input_list, num_rows, num_cols):\n",
    "    my_rows = []\n",
    "    for row in range(num_rows):\n",
    "        this_row = []\n",
    "        for col in range (num_cols):\n",
    "            index = row * num_cols +col \n",
    "            letter = input_list[index]\n",
    "            this_row.append(letter)\n",
    "        my_rows.append(this_row)\n",
    "\n",
    "    return my_rows\n",
    "\n",
    "\n",
    "input_big_list = ['a', 'b' , 'c' ,'d' , 'e' ,'f' ,'g' , 'h' , 'i' , 'j' , 'k' , 'l']\n",
    "num_of_rows = 6\n",
    "num_of_cols = 2\n",
    "\n",
    "chunks = fold_the_list_into_list_of_lists(input_big_list,num_of_rows,num_of_cols)\n",
    "print(chunks)\n",
    "\n"
   ]
  },
  {
   "cell_type": "code",
   "execution_count": 16,
   "metadata": {},
   "outputs": [
    {
     "name": "stdout",
     "output_type": "stream",
     "text": [
      " l e j j d\n",
      " t w v o v\n",
      " r a s i l\n",
      " v c k e t\n",
      " b x t a w\n"
     ]
    }
   ],
   "source": [
    "def get_list_of_list_of_random_letters(num_of_row , num_of_col):\n",
    "    letters = num_of_row * num_of_col\n",
    "    h = get_random_letters(letters)\n",
    "    l = fold_the_list_into_list_of_lists(h , num_of_row , num_of_col)\n",
    "    return l\n",
    "\n",
    "\n",
    "\n",
    "q = get_list_of_list_of_random_letters(5,5)\n",
    "\n",
    "\n",
    "print_list_as_table(q)\n",
    "\n",
    "\n",
    "\n",
    "\n",
    "    "
   ]
  },
  {
   "cell_type": "code",
   "execution_count": 17,
   "metadata": {},
   "outputs": [
    {
     "data": {
      "text/plain": [
       "[['h', 'e', 'l', 'l', 'o', 'h', 'j', 'f'],\n",
       " ['u', 'v', 'd', 'e', 'c', 'h', 'n', 'x'],\n",
       " ['q', 'k', 'k', 'x', 'a', 'e', 't', 'a'],\n",
       " ['p', 's', 'm', 'o', 'l', 'z', 'y', 'w'],\n",
       " ['i', 'c', 'y', 'c', 'j', 'e', 'e', 'd'],\n",
       " ['n', 'x', 'o', 'u', 'c', 'b', 'r', 't'],\n",
       " ['a', 'z', 't', 'f', 'm', 'p', 'g', 'p']]"
      ]
     },
     "execution_count": 17,
     "metadata": {},
     "output_type": "execute_result"
    }
   ],
   "source": [
    "def put_word_in_list_of_list (list_of_lists , word, start_row , start_col):\n",
    "    spot = start_col\n",
    "    for letter in word:\n",
    "        list_of_lists[start_row][spot] = letter\n",
    "        spot = spot  + 1\n",
    "        \n",
    "    return list_of_lists\n",
    "\n",
    "list_of_words = get_list_of_list_of_random_letters( 7 , 8 )\n",
    "\n",
    "put_word_in_list_of_list(list_of_words , \"hello\",0 , 0)\n",
    "\n",
    "    \n",
    "    "
   ]
  },
  {
   "cell_type": "code",
   "execution_count": 18,
   "metadata": {},
   "outputs": [
    {
     "data": {
      "text/plain": [
       "[['q', 'h', 'v', 'l', 'l', 'b', 'i', 'a'],\n",
       " ['p', 'e', 'q', 'r', 'g', 'q', 'w', 'z'],\n",
       " ['k', 'l', 'e', 'v', 'f', 'n', 't', 'h'],\n",
       " ['b', 'l', 'y', 'p', 'r', 'q', 'e', 'f'],\n",
       " ['k', 'o', 'c', 'd', 'q', 't', 'r', 's'],\n",
       " ['b', 'x', 't', 's', 'g', 'u', 'x', 's'],\n",
       " ['s', 'f', 'x', 's', 'j', 'p', 'v', 'x']]"
      ]
     },
     "execution_count": 18,
     "metadata": {},
     "output_type": "execute_result"
    }
   ],
   "source": [
    "def put_word_in_list_of_list_col (list_of_lists , word, start_row , start_col):\n",
    "    spot = start_row\n",
    "    for letter in word:\n",
    "        list_of_lists[spot][start_col] = letter\n",
    "        spot = spot  + 1\n",
    "        \n",
    "    return list_of_lists\n",
    "\n",
    "list_of_words = get_list_of_list_of_random_letters( 7 , 8 )\n",
    "\n",
    "put_word_in_list_of_list_col(list_of_words , \"hello\",0 , 1)\n",
    "\n",
    "\n",
    "        \n"
   ]
  },
  {
   "cell_type": "code",
   "execution_count": 19,
   "metadata": {
    "scrolled": true
   },
   "outputs": [],
   "source": [
    "def vertical_or_horizontal():\n",
    "    random_direction = random.sample(range(1,3),1)\n",
    "    o = random_direction[0]\n",
    "    if o == 1:\n",
    "        return \"vertical\"\n",
    "    else:\n",
    "        return \"horizontal\"\n",
    "\n"
   ]
  },
  {
   "cell_type": "code",
   "execution_count": 20,
   "metadata": {},
   "outputs": [],
   "source": [
    "def horizontal (table , words ):\n",
    "    square_size = len(table)\n",
    "    num_words = len(words)\n",
    "    ran_rows = random.sample(range(0,square_size),num_words)\n",
    "    for i in range (num_words):\n",
    "        curent_word = words[i]\n",
    "        start_row = ran_rows[i]\n",
    "        length_of_word = len(curent_word)\n",
    "        last_place_can_put = square_size - length_of_word\n",
    "        start_col = random.randint(0 , last_place_can_put)\n",
    "        table = put_word_in_list_of_list(table , curent_word  , start_row , start_col )\n",
    "    return table "
   ]
  },
  {
   "cell_type": "code",
   "execution_count": 21,
   "metadata": {},
   "outputs": [],
   "source": [
    "def vertical(table, words ):\n",
    "    square_size = len(table)\n",
    "    num_words = len(words)\n",
    "    ran_cols = random.sample(range(0,square_size),num_words)\n",
    "    for i in range (num_words):\n",
    "        curent_word = words[i]\n",
    "        start_col = ran_cols[i]\n",
    "        length_of_word = len(curent_word)\n",
    "        last_place_can_put = square_size - length_of_word\n",
    "        start_rows = random.randint(0 , last_place_can_put)\n",
    "        table = put_word_in_list_of_list_col(table , curent_word  , start_rows , start_col )\n",
    "    return table \n",
    "        "
   ]
  },
  {
   "cell_type": "code",
   "execution_count": 24,
   "metadata": {
    "scrolled": false
   },
   "outputs": [
    {
     "name": "stdout",
     "output_type": "stream",
     "text": [
      "how many words do you want : 5\n",
      " \n",
      "note that when you input your word it will not be permited to put the word as a one leter word \n",
      " \n",
      "what word do you want to be in the word search : jovial\n",
      " \n",
      "what word do you want to be in the word search : fragrance\n",
      " \n",
      "what word do you want to be in the word search : snow\n",
      " \n",
      "what word do you want to be in the word search : winter\n",
      " \n",
      "what word do you want to be in the word search : legos\n",
      " \n",
      " \n",
      "_______________________________________________\n",
      " \n",
      " \n",
      "Find the following words in the table below\n",
      " \n",
      "-jovial\n",
      "-fragrance\n",
      "-snow\n",
      "-winter\n",
      "-legos\n",
      " \n",
      " \n",
      " z m l p l n n t f r a g r a n c e e\n",
      " z g r z q g g v s k b b u b w n c x\n",
      " e x q b s r z j y r p s s i d n n c\n",
      " w s r m k j t g r p z h q s n o w k\n",
      " d c l e g o s z d o c q o k b q n p\n",
      " j j i n a j y k r m t z l y m c p f\n",
      " e v b w z r u x q j o v i a l u w e\n",
      " q j i y h w z n g z h w c j u d i o\n",
      " y v g c n v n v h y o p x m o q d l\n",
      " g d j y h f a v e g f d j j r y v h\n",
      " i e b p g s i k v o r f f f t n k c\n",
      " k z d y d h b f y b j v a g a g g f\n",
      " y n t l v k h j x y k m y e b d j p\n",
      " b j a g e y k s l t x h m p v s b e\n",
      " r t c b v b v w o z j e t q j t g m\n",
      " p v f t z b i l e h n t p c x b s c\n",
      " q j b b q k h k n f p z a t y u r w\n",
      " v y b g w i n t e r w v b z a e g t\n"
     ]
    }
   ],
   "source": [
    "orientation = vertical_or_horizontal()\n",
    "\n",
    "num_words = input('how many words do you want : ')\n",
    "num_words = int(num_words)\n",
    "\n",
    "\n",
    "while num_words > 10:\n",
    "    print(\"please give less than ten words\")\n",
    "    num_words = input('how many words do you want : ')\n",
    "    num_words = int(num_words)\n",
    "\n",
    "    \n",
    "y = \" \"\n",
    "words = [ ]\n",
    "the_longest = 0\n",
    "print(y)\n",
    "print(\"note that when you input your word it will not be permited to put the word as a one leter word \")\n",
    "for i in range(num_words):\n",
    "    print(y)\n",
    "    word_to_add =input('what word do you want to be in the word search : ')\n",
    "    while len(word_to_add) > 15:\n",
    "        print(y)\n",
    "        print(\"please give a word that is less than 20 charecters\")\n",
    "        word_to_add =input('what word do you want to be in the word search : ')\n",
    "    while len(word_to_add) < 2:\n",
    "        print(y)\n",
    "        print(\"please give a word that is greater than 1 charecters\")\n",
    "        word_to_add =input('what word do you want to be in the word search :  ')\n",
    "    words.append(word_to_add)\n",
    "    if len(word_to_add) > the_longest:\n",
    "        the_longest = len(word_to_add)\n",
    "        \n",
    "x = ' '\n",
    "b = '_______________________________________________'\n",
    "print(x)\n",
    "print(x)\n",
    "print(b)\n",
    "print(x)\n",
    "print(x)\n",
    "print(\"Find the following words in the table below\")\n",
    "print(x)\n",
    "for l in range(num_words):\n",
    "    print(\"-\" + words[l] )\n",
    "\n",
    "print(x)\n",
    "print(x)\n",
    "        \n",
    "        \n",
    "num_rows = 2 * num_words\n",
    "num_cols = 2 * the_longest\n",
    "\n",
    "\n",
    "if num_rows > num_cols:\n",
    "    square_size_ = num_rows\n",
    "else:\n",
    "    square_size_ = num_cols\n",
    "        \n",
    "\n",
    "table = get_list_of_list_of_random_letters(square_size_ , square_size_)\n",
    "\n",
    "\n",
    "if orientation == \"horizontal\":\n",
    "    call = horizontal(table , words )\n",
    "else: \n",
    "    call = vertical(table , words )\n",
    "\n",
    "\n",
    "print_list_as_table(call)\n",
    "\n"
   ]
  },
  {
   "cell_type": "code",
   "execution_count": null,
   "metadata": {},
   "outputs": [],
   "source": []
  }
 ],
 "metadata": {
  "kernelspec": {
   "display_name": "Python 3",
   "language": "python",
   "name": "python3"
  },
  "language_info": {
   "codemirror_mode": {
    "name": "ipython",
    "version": 3
   },
   "file_extension": ".py",
   "mimetype": "text/x-python",
   "name": "python",
   "nbconvert_exporter": "python",
   "pygments_lexer": "ipython3",
   "version": "3.8.5"
  }
 },
 "nbformat": 4,
 "nbformat_minor": 4
}
