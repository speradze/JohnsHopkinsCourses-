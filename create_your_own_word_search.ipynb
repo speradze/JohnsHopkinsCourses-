{
 "cells": [
  {
   "cell_type": "code",
   "execution_count": 1,
   "metadata": {},
   "outputs": [],
   "source": [
    "#This code is about creating your own word search. \n",
    "#In this game you will need to input how many many words you want and the words themself. \n",
    "#After that the computer will randomly place the words in a table.\n",
    "#That table is filled with random letters. \n",
    "#To play the game yoy need to print the table, find and circle the words. \n",
    "#This game can have as many players as you want so invite your freinds to play the game.\n",
    "\n"
   ]
  },
  {
   "cell_type": "markdown",
   "metadata": {},
   "source": [
    "The below code builds a word search game. \n",
    "Word search is a game often given to kids in restaurants before the food arrives.\n",
    "\n",
    "In this game you will need to input how many many words you want and the words themself\n",
    "after that ,  a table with the words that you inputed and a bunch of random words will pop up .\n",
    "To play the game you need to print the table and find then circle the words you inputed .\n",
    "\n",
    "An example is ...\n",
    "\n",
    "For example: Cat, Dog, Apple\n",
    "    \n",
    "\n",
    "The code will produce a table:\n",
    "\n",
    "\n",
    "g h j f y h j k m g t f\n",
    "j k h d o g j g f h m n\n",
    "k j d h f g b v i f d w\n",
    "s d a p p l e b j r f d\n",
    "s d m n d j h b e e s d\n",
    "p o j g h c a t v k l k\n",
    "\n",
    "\n",
    "\n",
    "\n",
    "\n",
    "\"dog\" is hidden in the second line.\n",
    "\n",
    "\"apple\" is hidden in the fourth line.\n",
    "\n",
    "\"cat\" is hidden in the sith line.\n",
    "\n",
    "\n",
    "To make a word search of your own go to  'In [11]:'"
   ]
  },
  {
   "cell_type": "code",
   "execution_count": 2,
   "metadata": {},
   "outputs": [
    {
     "name": "stdout",
     "output_type": "stream",
     "text": [
      "['v', 'h', 'x', 'n', 'd', 'x']\n"
     ]
    }
   ],
   "source": [
    "import random\n",
    "def get_random_letters( num_random_letters ):\n",
    "    result_list = []\n",
    "    alphabet = ['a', 'b', 'c', 'd', 'e', 'f', 'g', 'h', 'i', 'j', 'k', 'l', 'm', 'n', 'o', 'p', 'q', 'r', 's', 't', 'u', 'v', 'w', 'x', 'y', 'z']\n",
    "    num_letters = len(alphabet)\n",
    "\n",
    "    for i in range(num_random_letters):\n",
    "        n = random.randint(0,num_letters-1)\n",
    "        random_letter = alphabet[n]\n",
    "        result_list.append(random_letter)\n",
    "    return(result_list)\n",
    "    \n",
    "h = get_random_letters(6)\n",
    "print(h)\n",
    "    "
   ]
  },
  {
   "cell_type": "code",
   "execution_count": 3,
   "metadata": {
    "scrolled": true
   },
   "outputs": [
    {
     "name": "stdout",
     "output_type": "stream",
     "text": [
      " a b c\n",
      " e z g\n",
      " j k l\n",
      " d f l\n"
     ]
    }
   ],
   "source": [
    "def print_list_as_table(list_of_list_of_letters):\n",
    "    for this_list in list_of_list_of_letters:\n",
    "        string = \"\"\n",
    "        for letter in this_list:\n",
    "            string = string + \" \" + letter\n",
    "        print(string)\n",
    "       \n",
    "        \n",
    "list_of_list_of_letters_from_english_alphabet = [['a' , 'b'  , 'c'] ,['e' , 'z' , 'g'], ['j' , 'k' , 'l'], ['d' , 'f' , 'l']]\n",
    "\n",
    "xyz =print_list_as_table(list_of_list_of_letters_from_english_alphabet)\n",
    "\n"
   ]
  },
  {
   "cell_type": "code",
   "execution_count": 4,
   "metadata": {},
   "outputs": [
    {
     "name": "stdout",
     "output_type": "stream",
     "text": [
      "[['a', 'b'], ['c', 'd'], ['e', 'f'], ['g', 'h'], ['i', 'j'], ['k', 'l']]\n"
     ]
    }
   ],
   "source": [
    "def fold_the_list_into_list_of_lists(input_list, num_rows, num_cols):\n",
    "    my_rows = []\n",
    "    for row in range(num_rows):\n",
    "        this_row = []\n",
    "        for col in range (num_cols):\n",
    "            index = row * num_cols +col \n",
    "            letter = input_list[index]\n",
    "            this_row.append(letter)\n",
    "        my_rows.append(this_row)\n",
    "\n",
    "    return my_rows\n",
    "\n",
    "\n",
    "input_big_list = ['a', 'b' , 'c' ,'d' , 'e' ,'f' ,'g' , 'h' , 'i' , 'j' , 'k' , 'l']\n",
    "num_of_rows = 6\n",
    "num_of_cols = 2\n",
    "\n",
    "chunks = fold_the_list_into_list_of_lists(input_big_list,num_of_rows,num_of_cols)\n",
    "print(chunks)\n",
    "\n"
   ]
  },
  {
   "cell_type": "code",
   "execution_count": 5,
   "metadata": {},
   "outputs": [
    {
     "name": "stdout",
     "output_type": "stream",
     "text": [
      " k w b t b\n",
      " b z c b b\n",
      " a e q t b\n",
      " z g e z z\n",
      " f n e q d\n"
     ]
    }
   ],
   "source": [
    "def get_list_of_list_of_random_letters(num_of_row , num_of_col):\n",
    "    letters = num_of_row * num_of_col\n",
    "    h = get_random_letters(letters)\n",
    "    l = fold_the_list_into_list_of_lists(h , num_of_row , num_of_col)\n",
    "    return l\n",
    "\n",
    "\n",
    "\n",
    "q = get_list_of_list_of_random_letters(5,5)\n",
    "\n",
    "\n",
    "print_list_as_table(q)\n",
    "\n",
    "\n",
    "\n",
    "\n",
    "    "
   ]
  },
  {
   "cell_type": "code",
   "execution_count": 6,
   "metadata": {},
   "outputs": [
    {
     "data": {
      "text/plain": [
       "[['h', 'e', 'l', 'l', 'o', 'p', 'f', 'c'],\n",
       " ['p', 'o', 'l', 'm', 'l', 'w', 'v', 'q'],\n",
       " ['o', 'b', 'b', 'w', 'k', 'r', 'n', 'p'],\n",
       " ['q', 'v', 'b', 'n', 'x', 'h', 'm', 'a'],\n",
       " ['x', 'j', 'p', 'u', 'z', 'm', 'a', 'o'],\n",
       " ['o', 'v', 'l', 'h', 'v', 'z', 'm', 'h'],\n",
       " ['r', 'n', 'a', 's', 'l', 'g', 's', 'o']]"
      ]
     },
     "execution_count": 6,
     "metadata": {},
     "output_type": "execute_result"
    }
   ],
   "source": [
    "def put_word_in_list_of_list (list_of_lists , word, start_row , start_col):\n",
    "    spot = start_col\n",
    "    for letter in word:\n",
    "        list_of_lists[start_row][spot] = letter\n",
    "        spot = spot  + 1\n",
    "        \n",
    "    return list_of_lists\n",
    "\n",
    "list_of_words = get_list_of_list_of_random_letters( 7 , 8 )\n",
    "\n",
    "put_word_in_list_of_list(list_of_words , \"hello\",0 , 0)\n",
    "\n",
    "    \n",
    "    "
   ]
  },
  {
   "cell_type": "code",
   "execution_count": 7,
   "metadata": {},
   "outputs": [
    {
     "data": {
      "text/plain": [
       "[['q', 'h', 'l', 'n', 'x', 'k', 'e', 'm'],\n",
       " ['q', 'e', 'c', 't', 'a', 'h', 'b', 'w'],\n",
       " ['z', 'l', 'o', 'k', 'e', 'h', 'e', 'b'],\n",
       " ['a', 'l', 'o', 'p', 'v', 'i', 'a', 'a'],\n",
       " ['f', 'o', 'k', 'o', 'i', 'r', 'w', 'n'],\n",
       " ['g', 'z', 'v', 'q', 'm', 'r', 'u', 'x'],\n",
       " ['y', 'v', 'n', 'z', 'q', 'x', 'm', 'l']]"
      ]
     },
     "execution_count": 7,
     "metadata": {},
     "output_type": "execute_result"
    }
   ],
   "source": [
    "def put_word_in_list_of_list_col (list_of_lists , word, start_row , start_col):\n",
    "    spot = start_row\n",
    "    for letter in word:\n",
    "        list_of_lists[spot][start_col] = letter\n",
    "        spot = spot  + 1\n",
    "        \n",
    "    return list_of_lists\n",
    "\n",
    "list_of_words = get_list_of_list_of_random_letters( 7 , 8 )\n",
    "\n",
    "put_word_in_list_of_list_col(list_of_words , \"hello\",0 , 1)\n",
    "\n",
    "\n",
    "        \n"
   ]
  },
  {
   "cell_type": "code",
   "execution_count": 8,
   "metadata": {
    "scrolled": true
   },
   "outputs": [],
   "source": [
    "def vertical_or_horizontal():\n",
    "    random_direction = random.sample(range(1,3),1)\n",
    "    o = random_direction[0]\n",
    "    if o == 1:\n",
    "        return \"vertical\"\n",
    "    else:\n",
    "        return \"horizontal\"\n",
    "\n"
   ]
  },
  {
   "cell_type": "code",
   "execution_count": 9,
   "metadata": {},
   "outputs": [],
   "source": [
    "def horizontal (table , words ):\n",
    "    square_size = len(table)\n",
    "    num_words = len(words)\n",
    "    ran_rows = random.sample(range(0,square_size),num_words)\n",
    "    for i in range (num_words):\n",
    "        curent_word = words[i]\n",
    "        start_row = ran_rows[i]\n",
    "        length_of_word = len(curent_word)\n",
    "        last_place_can_put = square_size - length_of_word\n",
    "        start_col = random.randint(0 , last_place_can_put)\n",
    "        table = put_word_in_list_of_list(table , curent_word  , start_row , start_col )\n",
    "    return table "
   ]
  },
  {
   "cell_type": "code",
   "execution_count": 10,
   "metadata": {},
   "outputs": [],
   "source": [
    "def vertical(table, words ):\n",
    "    square_size = len(table)\n",
    "    num_words = len(words)\n",
    "    ran_cols = random.sample(range(0,square_size),num_words)\n",
    "    for i in range (num_words):\n",
    "        curent_word = words[i]\n",
    "        start_col = ran_cols[i]\n",
    "        length_of_word = len(curent_word)\n",
    "        last_place_can_put = square_size - length_of_word\n",
    "        start_rows = random.randint(0 , last_place_can_put)\n",
    "        table = put_word_in_list_of_list_col(table , curent_word  , start_rows , start_col )\n",
    "    return table \n",
    "        "
   ]
  },
  {
   "cell_type": "code",
   "execution_count": 11,
   "metadata": {
    "scrolled": false
   },
   "outputs": [
    {
     "name": "stdout",
     "output_type": "stream",
     "text": [
      "how many words do you want 2\n",
      " \n",
      "note that when you input your word it will not be permited to put the word as a one leter word \n",
      " \n",
      "what word do you want to be in the word search hi\n",
      " \n",
      "what word do you want to be in the word search holaho\n",
      " \n",
      "Find the following words in the table below\n",
      "-hi\n",
      "-holaho\n",
      " \n",
      " a n v y o v b y h f w v\n",
      " r h l r h n y q x x q e\n",
      " p k i m l q k i v a d o\n",
      " y j y z p g v o o f r c\n",
      " n d e n g e c c f j s k\n",
      " h t y z p h e a n e u q\n",
      " o d v s v n q v m i b o\n",
      " l h h s x e u u c s t o\n",
      " a k f b a n j m b e x l\n",
      " h j u f e i m k x c k f\n",
      " o g h t o x c j q a g c\n",
      " p w i y q b i u u p f b\n"
     ]
    }
   ],
   "source": [
    "#random_direction = random.sample(range(1,3),1)\n",
    "orientation = vertical_or_horizontal()\n",
    "\n",
    "\n",
    "\n",
    "\n",
    "\n",
    "\n",
    "\n",
    "num_words = input('how many words do you want ')\n",
    "num_words = int(num_words)\n",
    "\n",
    "\n",
    "while num_words > 10:\n",
    "    print(\"please give less than ten words\")\n",
    "    num_words = input('how many words do you want ')\n",
    "    num_words = int(num_words)\n",
    "\n",
    "    \n",
    "y = \" \"\n",
    "words = [ ]\n",
    "the_longest = 0\n",
    "print(y)\n",
    "print(\"note that when you input your word it will not be permited to put the word as a one leter word \")\n",
    "for i in range(num_words):\n",
    "    print(y)\n",
    "    word_to_add =input('what word do you want to be in the word search ')\n",
    "    while len(word_to_add) > 15:\n",
    "        print(y)\n",
    "        print(\"please give a word that is less than 20 charecters\")\n",
    "        word_to_add =input('what word do you want to be in the word search ')\n",
    "    while len(word_to_add) < 2:\n",
    "        print(y)\n",
    "        print(\"please give a word that is greater than 1 charecters\")\n",
    "        word_to_add =input('what word do you want to be in the word search ')\n",
    "    words.append(word_to_add)\n",
    "    if len(word_to_add) > the_longest:\n",
    "        the_longest = len(word_to_add)\n",
    "        \n",
    "x = ' '\n",
    "print(x)\n",
    "print(\"Find the following words in the table below\")\n",
    "for l in range(num_words):\n",
    "    print(\"-\" + words[l] )\n",
    "\n",
    "print(x)\n",
    "        \n",
    "        \n",
    "num_rows = 2 * num_words\n",
    "num_cols = 2 * the_longest\n",
    "\n",
    "\n",
    "if num_rows > num_cols:\n",
    "    square_size_ = num_rows\n",
    "else:\n",
    "    square_size_ = num_cols\n",
    "        \n",
    "\n",
    "table = get_list_of_list_of_random_letters(square_size_ , square_size_)\n",
    "\n",
    "\n",
    "if orientation == 1:\n",
    "    call = horizontal(table , words )\n",
    "else: \n",
    "    call = vertical(table , words )\n",
    "\n",
    "\n",
    "print_list_as_table(call)\n",
    "\n"
   ]
  },
  {
   "cell_type": "code",
   "execution_count": null,
   "metadata": {},
   "outputs": [],
   "source": []
  }
 ],
 "metadata": {
  "kernelspec": {
   "display_name": "Python 3",
   "language": "python",
   "name": "python3"
  },
  "language_info": {
   "codemirror_mode": {
    "name": "ipython",
    "version": 3
   },
   "file_extension": ".py",
   "mimetype": "text/x-python",
   "name": "python",
   "nbconvert_exporter": "python",
   "pygments_lexer": "ipython3",
   "version": "3.8.5"
  }
 },
 "nbformat": 4,
 "nbformat_minor": 4
}
