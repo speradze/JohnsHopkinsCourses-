{
 "cells": [
  {
   "cell_type": "code",
   "execution_count": 1,
   "metadata": {},
   "outputs": [],
   "source": [
    "# This the code I wrote that let’s you create your own word search. \n",
    "# In this game you will need to input how many many words you want and the words themself. \n",
    "# After that, the computer will randomly place the words in a table.\n",
    "# The table is filled with random letters. \n",
    "# To play the game you need to print the table, find and circle the words. \n",
    "# This game can have as many players as you want so invite your friends to play the game."
   ]
  },
  {
   "cell_type": "code",
   "execution_count": 2,
   "metadata": {},
   "outputs": [
    {
     "name": "stdout",
     "output_type": "stream",
     "text": [
      "['v', 't', 'z', 'd', 'h', 'g']\n"
     ]
    }
   ],
   "source": [
    "import random\n",
    "def get_random_letters( num_random_letters ):\n",
    "    result_list = []\n",
    "    alphabet = ['a', 'b', 'c', 'd', 'e', 'f', 'g', 'h', 'i', 'j', 'k', 'l', 'm', 'n', 'o', 'p', 'q', 'r', 's', 't', 'u', 'v', 'w', 'x', 'y', 'z']\n",
    "    num_letters = len(alphabet)\n",
    "\n",
    "    for i in range(num_random_letters):\n",
    "        n = random.randint(0,num_letters-1)\n",
    "        random_letter = alphabet[n]\n",
    "        result_list.append(random_letter)\n",
    "    return(result_list)\n",
    "    \n",
    "h = get_random_letters(6)\n",
    "print(h)\n",
    "    "
   ]
  },
  {
   "cell_type": "code",
   "execution_count": 3,
   "metadata": {
    "scrolled": true
   },
   "outputs": [
    {
     "name": "stdout",
     "output_type": "stream",
     "text": [
      " a b c\n",
      " e z g\n",
      " j k l\n",
      " d f l\n"
     ]
    }
   ],
   "source": [
    "def print_list_as_table(list_of_list_of_letters):\n",
    "    for this_list in list_of_list_of_letters:\n",
    "        string = \"\"\n",
    "        for letter in this_list:\n",
    "            string = string + \" \" + letter\n",
    "        print(string)\n",
    "       \n",
    "        \n",
    "list_of_list_of_letters_from_english_alphabet = [['a' , 'b'  , 'c'] ,['e' , 'z' , 'g'], ['j' , 'k' , 'l'], ['d' , 'f' , 'l']]\n",
    "\n",
    "xyz =print_list_as_table(list_of_list_of_letters_from_english_alphabet)\n",
    "\n"
   ]
  },
  {
   "cell_type": "code",
   "execution_count": 4,
   "metadata": {},
   "outputs": [
    {
     "name": "stdout",
     "output_type": "stream",
     "text": [
      "[['a', 'b'], ['c', 'd'], ['e', 'f'], ['g', 'h'], ['i', 'j'], ['k', 'l']]\n"
     ]
    }
   ],
   "source": [
    "def fold_the_list_into_list_of_lists(input_list, num_rows, num_cols):\n",
    "    my_rows = []\n",
    "    for row in range(num_rows):\n",
    "        this_row = []\n",
    "        for col in range (num_cols):\n",
    "            index = row * num_cols +col \n",
    "            letter = input_list[index]\n",
    "            this_row.append(letter)\n",
    "        my_rows.append(this_row)\n",
    "\n",
    "    return my_rows\n",
    "\n",
    "\n",
    "input_big_list = ['a', 'b' , 'c' ,'d' , 'e' ,'f' ,'g' , 'h' , 'i' , 'j' , 'k' , 'l']\n",
    "num_of_rows = 6\n",
    "num_of_cols = 2\n",
    "\n",
    "chunks = fold_the_list_into_list_of_lists(input_big_list,num_of_rows,num_of_cols)\n",
    "print(chunks)\n",
    "\n"
   ]
  },
  {
   "cell_type": "code",
   "execution_count": 5,
   "metadata": {},
   "outputs": [
    {
     "name": "stdout",
     "output_type": "stream",
     "text": [
      " l s n r m\n",
      " e a v g d\n",
      " c t y l w\n",
      " b s b w k\n",
      " s z c l p\n"
     ]
    }
   ],
   "source": [
    "def get_list_of_list_of_random_letters(num_of_row , num_of_col):\n",
    "    letters = num_of_row * num_of_col\n",
    "    h = get_random_letters(letters)\n",
    "    l = fold_the_list_into_list_of_lists(h , num_of_row , num_of_col)\n",
    "    return l\n",
    "\n",
    "\n",
    "\n",
    "q = get_list_of_list_of_random_letters(5,5)\n",
    "\n",
    "\n",
    "print_list_as_table(q)\n",
    "\n",
    "\n",
    "\n",
    "\n",
    "    "
   ]
  },
  {
   "cell_type": "code",
   "execution_count": 6,
   "metadata": {},
   "outputs": [
    {
     "data": {
      "text/plain": [
       "[['h', 'e', 'l', 'l', 'o', 'b', 'w', 'h'],\n",
       " ['m', 'b', 'h', 'h', 'n', 'g', 'c', 'w'],\n",
       " ['y', 'n', 'l', 'e', 'o', 's', 'l', 'q'],\n",
       " ['k', 'u', 's', 't', 'g', 'z', 'g', 'k'],\n",
       " ['v', 'r', 'z', 'i', 'j', 'z', 'q', 'c'],\n",
       " ['k', 'q', 'p', 'f', 'j', 'm', 'i', 'y'],\n",
       " ['j', 'b', 'b', 'z', 'm', 'b', 'k', 'c']]"
      ]
     },
     "execution_count": 6,
     "metadata": {},
     "output_type": "execute_result"
    }
   ],
   "source": [
    "def put_word_in_list_of_list (list_of_lists , word, start_row , start_col):\n",
    "    spot = start_col\n",
    "    for letter in word:\n",
    "        list_of_lists[start_row][spot] = letter\n",
    "        spot = spot  + 1\n",
    "        \n",
    "    return list_of_lists\n",
    "\n",
    "list_of_words = get_list_of_list_of_random_letters( 7 , 8 )\n",
    "\n",
    "put_word_in_list_of_list(list_of_words , \"hello\",0 , 0)\n",
    "\n",
    "    \n",
    "    "
   ]
  },
  {
   "cell_type": "code",
   "execution_count": 7,
   "metadata": {},
   "outputs": [
    {
     "data": {
      "text/plain": [
       "[['o', 'h', 'i', 'b', 'y', 'z', 'l', 'j'],\n",
       " ['r', 'e', 'y', 'q', 'e', 'y', 'f', 'h'],\n",
       " ['o', 'l', 'a', 'f', 'l', 'n', 'k', 'm'],\n",
       " ['v', 'l', 'u', 'j', 'x', 'g', 'n', 'a'],\n",
       " ['y', 'o', 'p', 'o', 'b', 'd', 'u', 'h'],\n",
       " ['f', 'o', 'd', 'g', 'k', 'i', 'a', 'h'],\n",
       " ['u', 'a', 'j', 'k', 'z', 't', 'i', 'd']]"
      ]
     },
     "execution_count": 7,
     "metadata": {},
     "output_type": "execute_result"
    }
   ],
   "source": [
    "def put_word_in_list_of_list_col (list_of_lists , word, start_row , start_col):\n",
    "    spot = start_row\n",
    "    for letter in word:\n",
    "        list_of_lists[spot][start_col] = letter\n",
    "        spot = spot  + 1\n",
    "        \n",
    "    return list_of_lists\n",
    "\n",
    "list_of_words = get_list_of_list_of_random_letters( 7 , 8 )\n",
    "\n",
    "put_word_in_list_of_list_col(list_of_words , \"hello\",0 , 1)\n",
    "\n",
    "\n",
    "        \n"
   ]
  },
  {
   "cell_type": "code",
   "execution_count": 8,
   "metadata": {
    "scrolled": true
   },
   "outputs": [],
   "source": [
    "def vertical_or_horizontal():\n",
    "    random_direction = random.sample(range(1,3),1)\n",
    "    o = random_direction[0]\n",
    "    if o == 1:\n",
    "        return \"vertical\"\n",
    "    else:\n",
    "        return \"horizontal\"\n",
    "\n"
   ]
  },
  {
   "cell_type": "code",
   "execution_count": 9,
   "metadata": {},
   "outputs": [],
   "source": [
    "def horizontal (table , words ):\n",
    "    square_size = len(table)\n",
    "    num_words = len(words)\n",
    "    ran_rows = random.sample(range(0,square_size),num_words)\n",
    "    for i in range (num_words):\n",
    "        curent_word = words[i]\n",
    "        start_row = ran_rows[i]\n",
    "        length_of_word = len(curent_word)\n",
    "        last_place_can_put = square_size - length_of_word\n",
    "        start_col = random.randint(0 , last_place_can_put)\n",
    "        table = put_word_in_list_of_list(table , curent_word  , start_row , start_col )\n",
    "    return table "
   ]
  },
  {
   "cell_type": "code",
   "execution_count": 10,
   "metadata": {},
   "outputs": [],
   "source": [
    "def vertical(table, words ):\n",
    "    square_size = len(table)\n",
    "    num_words = len(words)\n",
    "    ran_cols = random.sample(range(0,square_size),num_words)\n",
    "    for i in range (num_words):\n",
    "        curent_word = words[i]\n",
    "        start_col = ran_cols[i]\n",
    "        length_of_word = len(curent_word)\n",
    "        last_place_can_put = square_size - length_of_word\n",
    "        start_rows = random.randint(0 , last_place_can_put)\n",
    "        table = put_word_in_list_of_list_col(table , curent_word  , start_rows , start_col )\n",
    "    return table \n",
    "        "
   ]
  },
  {
   "cell_type": "code",
   "execution_count": 11,
   "metadata": {
    "scrolled": false
   },
   "outputs": [
    {
     "name": "stdout",
     "output_type": "stream",
     "text": [
      "how many words do you want : 2\n",
      " \n",
      "note that when you input your word it will not be permited to put the word as a one leter word \n",
      " \n",
      "what word do you want to be in the word search : hello\n",
      " \n",
      "what word do you want to be in the word search : buy\n",
      " \n",
      " \n",
      "_______________________________________________\n",
      " \n",
      " \n",
      "Find the following words in the table below\n",
      " \n",
      "-hello\n",
      "-buy\n",
      " \n",
      " \n",
      " u s o g d c s x i p\n",
      " w h e v a b a m l g\n",
      " z j t h d u r g s p\n",
      " v h n f o y x b g y\n",
      " d e e h q s c q k l\n",
      " l l l c s u p y z a\n",
      " g l j w s f q u q u\n",
      " e o b p h x h t h d\n",
      " q r n t q c x a p z\n",
      " z c v x e s i a j w\n"
     ]
    }
   ],
   "source": [
    "orientation = vertical_or_horizontal()\n",
    "\n",
    "num_words = input('how many words do you want : ')\n",
    "num_words = int(num_words)\n",
    "\n",
    "\n",
    "while num_words > 10:\n",
    "    print(\"please give less than ten words\")\n",
    "    num_words = input('how many words do you want : ')\n",
    "    num_words = int(num_words)\n",
    "\n",
    "    \n",
    "y = \" \"\n",
    "words = [ ]\n",
    "the_longest = 0\n",
    "print(y)\n",
    "print(\"note that when you input your word it will not be permited to put the word as a one leter word \")\n",
    "for i in range(num_words):\n",
    "    print(y)\n",
    "    word_to_add =input('what word do you want to be in the word search : ')\n",
    "    while len(word_to_add) > 15:\n",
    "        print(y)\n",
    "        print(\"please give a word that is less than 20 charecters\")\n",
    "        word_to_add =input('what word do you want to be in the word search : ')\n",
    "    while len(word_to_add) < 2:\n",
    "        print(y)\n",
    "        print(\"please give a word that is greater than 1 charecters\")\n",
    "        word_to_add =input('what word do you want to be in the word search :  ')\n",
    "    words.append(word_to_add)\n",
    "    if len(word_to_add) > the_longest:\n",
    "        the_longest = len(word_to_add)\n",
    "        \n",
    "x = ' '\n",
    "b = '_______________________________________________'\n",
    "print(x)\n",
    "print(x)\n",
    "print(b)\n",
    "print(x)\n",
    "print(x)\n",
    "print(\"Find the following words in the table below\")\n",
    "print(x)\n",
    "for l in range(num_words):\n",
    "    print(\"-\" + words[l] )\n",
    "\n",
    "print(x)\n",
    "print(x)\n",
    "        \n",
    "        \n",
    "num_rows = 2 * num_words\n",
    "num_cols = 2 * the_longest\n",
    "\n",
    "\n",
    "if num_rows > num_cols:\n",
    "    square_size_ = num_rows\n",
    "else:\n",
    "    square_size_ = num_cols\n",
    "        \n",
    "\n",
    "table = get_list_of_list_of_random_letters(square_size_ , square_size_)\n",
    "\n",
    "\n",
    "if orientation == \"horizontal\":\n",
    "    call = horizontal(table , words )\n",
    "else: \n",
    "    call = vertical(table , words )\n",
    "\n",
    "\n",
    "print_list_as_table(call)\n",
    "\n"
   ]
  }
 ],
 "metadata": {
  "kernelspec": {
   "display_name": "Python 3",
   "language": "python",
   "name": "python3"
  },
  "language_info": {
   "codemirror_mode": {
    "name": "ipython",
    "version": 3
   },
   "file_extension": ".py",
   "mimetype": "text/x-python",
   "name": "python",
   "nbconvert_exporter": "python",
   "pygments_lexer": "ipython3",
   "version": "3.8.5"
  }
 },
 "nbformat": 4,
 "nbformat_minor": 4
}
